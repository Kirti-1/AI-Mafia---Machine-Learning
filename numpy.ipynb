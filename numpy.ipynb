a
b
c
d1
e
f
g
h
